{
 "cells": [
  {
   "cell_type": "markdown",
   "metadata": {},
   "source": [
    "# Intro to Bayesian Statistics Lab\n",
    "\n",
    "Complete the following set of exercises to solidify your knowledge of Bayesian statistics and Bayesian data analysis."
   ]
  },
  {
   "cell_type": "code",
   "execution_count": 33,
   "metadata": {},
   "outputs": [],
   "source": [
    "import pandas as pd\n",
    "import numpy as np\n",
    "import matplotlib.pyplot as plt\n",
    "import seaborn as sns"
   ]
  },
  {
   "cell_type": "markdown",
   "metadata": {},
   "source": [
    "## 1. Cookie Problem\n",
    "\n",
    "Suppose we have two bowls of cookies. Bowl 1 contains 30 vanilla cookies and 10 chocolate cookies. Bowl 2 contains 20 of each. You randomly pick one cookie out of one of the bowls, and it is vanilla. Use Bayes Theorem to calculate the probability that the vanilla cookie you picked came from Bowl 1?"
   ]
  },
  {
   "cell_type": "code",
   "execution_count": 5,
   "metadata": {},
   "outputs": [],
   "source": [
    "# Teorema : P(A|B) = P(B|A) P(A) / P(B)\n",
    "\n",
    "#Defino la función de Bayes\n",
    "def bayes(priors, likelihoods):\n",
    "    marg = sum(np.multiply(priors, likelihoods))\n",
    "    post = np.divide(np.multiply(priors, likelihoods), marg)\n",
    "    return post\n",
    "\n",
    "#Defino priors y likelihoods\n",
    "priors = [1/2, 1/2] #probabilidades de cada bowl\n",
    "likelihoods_vanilla = [3/4, 1/2] #3 de 4 galletas en el primer bowl son vainilla, 1 de 2 galletas para el segundo"
   ]
  },
  {
   "cell_type": "code",
   "execution_count": 10,
   "metadata": {},
   "outputs": [
    {
     "name": "stdout",
     "output_type": "stream",
     "text": [
      "La probabilidad de que venga del primer bowl es de: 0.6\n"
     ]
    }
   ],
   "source": [
    "probabilidades = bayes(priors, likelihoods_vanilla)\n",
    "\n",
    "#La probabilidad es el índice 0 para el primer bowl:\n",
    "print(f'La probabilidad de que venga del primer bowl es de: {probabilidades[0]}')"
   ]
  },
  {
   "cell_type": "markdown",
   "metadata": {},
   "source": [
    "What is the probability that it came from Bowl 2?"
   ]
  },
  {
   "cell_type": "code",
   "execution_count": 9,
   "metadata": {},
   "outputs": [
    {
     "name": "stdout",
     "output_type": "stream",
     "text": [
      "La probabilidad de que venga del segundo bowl es de: 0.4\n"
     ]
    }
   ],
   "source": [
    "#El indice[1] de la variable probabilidades corresponde al segundo bowl\n",
    "print(f'La probabilidad de que venga del segundo bowl es de: {probabilidades[1]}')"
   ]
  },
  {
   "cell_type": "markdown",
   "metadata": {},
   "source": [
    "What if the cookie you had picked was chocolate? What are the probabilities that the chocolate cookie came from Bowl 1 and Bowl 2 respectively?"
   ]
  },
  {
   "cell_type": "code",
   "execution_count": 14,
   "metadata": {},
   "outputs": [
    {
     "name": "stdout",
     "output_type": "stream",
     "text": [
      "La probabilidad de que la galleta de chocolate venga del primer bowl es: 0.3333333333333333\n",
      "La probabilidad de que la galleta de chocolate venga del segundo bowl es: 0.6666666666666666\n"
     ]
    }
   ],
   "source": [
    "#Defino el nuevo likelihood \n",
    "likelihood_choc = [1/4, 1/2]\n",
    "\n",
    "#Corro función en nueva variable\n",
    "proba_choc = bayes(priors, likelihood_choc)\n",
    "\n",
    "#Imprimo\n",
    "print(f'La probabilidad de que la galleta de chocolate venga del primer bowl es: {proba_choc[0]}')\n",
    "print(f'La probabilidad de que la galleta de chocolate venga del segundo bowl es: {proba_choc[1]}')"
   ]
  },
  {
   "cell_type": "markdown",
   "metadata": {},
   "source": [
    "## 2. Candy Problem\n",
    "\n",
    "Suppose you have two bags of candies:\n",
    "\n",
    "- In Bag 1, the mix of colors is:\n",
    "    - Brown - 30%\n",
    "    - Yellow - 20%\n",
    "    - Red - 20%\n",
    "    - Green - 10%\n",
    "    - Orange - 10%\n",
    "    - Tan - 10%\n",
    "    \n",
    "- In Bag 2, the mix of colors is:\n",
    "    - Blue - 24%\n",
    "    - Green - 20%\n",
    "    - Orange - 16%\n",
    "    - Yellow - 14%\n",
    "    - Red - 13%\n",
    "    - Brown - 13%\n",
    "    \n",
    "Not knowing which bag is which, you randomly draw one candy from each bag. One is yellow and one is green. What is the probability that the yellow one came from the Bag 1?\n",
    "\n",
    "*Hint: For the likelihoods, you will need to multiply the probabilities of drawing yellow from one bag and green from the other bag and vice versa.*"
   ]
  },
  {
   "cell_type": "code",
   "execution_count": 19,
   "metadata": {},
   "outputs": [
    {
     "name": "stdout",
     "output_type": "stream",
     "text": [
      "La probabilidad de que obtenga un dulce amarillo de la primera bolsa es de: 0.7407407407407408%\n"
     ]
    }
   ],
   "source": [
    "#Defino priors & likelihoods\n",
    "priors = [1/2, 1/2]\n",
    "likelihoods_col = [0.20*0.20, .10*.14] #Multiplico 20 amarillo d ela primera bolsa * 20 verde de la segunda y al revés\n",
    "\n",
    "#Corro funcion con variables definidas\n",
    "probabilities = bayes(priors, likelihoods_col)\n",
    "\n",
    "print(f'La probabilidad de que obtenga un dulce amarillo de la primera bolsa es de: {probabilities[0]}%')"
   ]
  },
  {
   "cell_type": "markdown",
   "metadata": {},
   "source": [
    "What is the probability that the yellow candy came from Bag 2?"
   ]
  },
  {
   "cell_type": "code",
   "execution_count": 20,
   "metadata": {},
   "outputs": [
    {
     "name": "stdout",
     "output_type": "stream",
     "text": [
      "La probabilidad de que obtenga un dulce amarillo de la segunda bolsa es de: 0.25925925925925924%\n"
     ]
    }
   ],
   "source": [
    "print(f'La probabilidad de que obtenga un dulce amarillo de la segunda bolsa es de: {probabilities[1]}%')"
   ]
  },
  {
   "cell_type": "markdown",
   "metadata": {},
   "source": [
    "What are the probabilities that the green one came from Bag 1 and Bag 2 respectively?"
   ]
  },
  {
   "cell_type": "code",
   "execution_count": 22,
   "metadata": {},
   "outputs": [
    {
     "name": "stdout",
     "output_type": "stream",
     "text": [
      "La probabilidad de que obtenga un dulce verde de la primera bolsa es de: 0.25925925925925924%\n",
      "La probabilidad de que obtenga un dulce verde de la segunda bolsa es de: 0.7407407407407408%\n"
     ]
    }
   ],
   "source": [
    "print(f'La probabilidad de que obtenga un dulce verde de la primera bolsa es de: {probabilities[1]}%')\n",
    "print(f'La probabilidad de que obtenga un dulce verde de la segunda bolsa es de: {probabilities[0]}%')"
   ]
  },
  {
   "cell_type": "markdown",
   "metadata": {},
   "source": [
    "## 3. Monty Hall Problem\n",
    "\n",
    "Suppose you are a contestant on the popular game show *Let's Make a Deal*. The host of the show (Monty Hall) presents you with three doors - Door A, Door B, and Door C. He tells you that there is a sports car behind one of them and if you choose the correct one, you win the car!\n",
    "\n",
    "You select Door A, but then Monty makes things a little more interesting. He opens Door B to reveal that there is no sports car behind it and asks you if you would like to stick with your choice of Door A or switch your choice to Door C. Given this new information, what are the probabilities of you winning the car if you stick with Door A versus if you switch to Door C?"
   ]
  },
  {
   "cell_type": "code",
   "execution_count": 26,
   "metadata": {},
   "outputs": [
    {
     "name": "stdout",
     "output_type": "stream",
     "text": [
      "Mantener en A: 0.3333333333333333\n",
      "Cambiar a C: 0.6666666666666666\n"
     ]
    }
   ],
   "source": [
    "#Puerta A : .3 de probabilidad\n",
    "#Puerta B : no hay auto\n",
    "#Puerta C: .3 de probabilidad \n",
    "\n",
    "\n",
    "A = 1/3\n",
    "B_C = 2/3 # el .3 de la puerta C se agrega acá \n",
    "\n",
    "print(f'Mantener en A: {A}')\n",
    "print(f'Cambiar a C: {B_C}')"
   ]
  },
  {
   "cell_type": "markdown",
   "metadata": {},
   "source": [
    "## 4. Bayesian Analysis \n",
    "\n",
    "Suppose you work for a landscaping company, and they want to advertise their service online. They create an ad and sit back waiting for the money to roll in. On the first day, the ad sends 100 visitors to the site and 14 of them sign up for landscaping services. Create a generative model to come up with the posterior distribution and produce a visualization of what the posterior distribution would look like given the observed data."
   ]
  },
  {
   "cell_type": "code",
   "execution_count": 30,
   "metadata": {},
   "outputs": [],
   "source": [
    "prior = pd.Series(np.random.uniform(0, 1, size =100000))\n",
    "sim = [np.random.binomial(100, i) for i in prior]\n",
    "post = prior[[i == 14 for i in sim]]"
   ]
  },
  {
   "cell_type": "code",
   "execution_count": 35,
   "metadata": {},
   "outputs": [
    {
     "name": "stderr",
     "output_type": "stream",
     "text": [
      "/usr/local/lib/python3.8/site-packages/seaborn/distributions.py:2551: FutureWarning: `distplot` is a deprecated function and will be removed in a future version. Please adapt your code to use either `displot` (a figure-level function with similar flexibility) or `histplot` (an axes-level function for histograms).\n",
      "  warnings.warn(msg, FutureWarning)\n"
     ]
    },
    {
     "data": {
      "image/png": "[encoded data removed]",
      "text/plain": [
       "<Figure size 432x288 with 1 Axes>"
      ]
     },
     "metadata": {
      "needs_background": "light"
     },
     "output_type": "display_data"
    }
   ],
   "source": [
    "sns.distplot(post);"
   ]
  },
  {
   "cell_type": "markdown",
   "metadata": {},
   "source": [
    "Produce a set of descriptive statistics for the posterior distribution."
   ]
  },
  {
   "cell_type": "code",
   "execution_count": 41,
   "metadata": {},
   "outputs": [
    {
     "data": {
      "text/plain": [
       "count    1002.000000\n",
       "mean        0.147327\n",
       "std         0.034621\n",
       "min         0.058299\n",
       "25%         0.123563\n",
       "50%         0.144712\n",
       "75%         0.169599\n",
       "max         0.300027\n",
       "dtype: float64"
      ]
     },
     "execution_count": 41,
     "metadata": {},
     "output_type": "execute_result"
    }
   ],
   "source": [
    "post.describe()"
   ]
  },
  {
   "cell_type": "markdown",
   "metadata": {},
   "source": [
    "What is the 90% credible interval range?"
   ]
  },
  {
   "cell_type": "code",
   "execution_count": 40,
   "metadata": {},
   "outputs": [
    {
     "name": "stdout",
     "output_type": "stream",
     "text": [
      "0.12356274576426121 - 0.22257890123916338\n"
     ]
    }
   ],
   "source": [
    "print(post.quantile(.25), '-', post.quantile(.975))"
   ]
  },
  {
   "cell_type": "markdown",
   "metadata": {},
   "source": [
    "What is the Maximum Likelihood Estimate?"
   ]
  },
  {
   "cell_type": "code",
   "execution_count": null,
   "metadata": {},
   "outputs": [],
   "source": []
  }
 ],
 "metadata": {
  "kernelspec": {
   "display_name": "Python 3",
   "language": "python",
   "name": "python3"
  },
  "language_info": {
   "codemirror_mode": {
    "name": "ipython",
    "version": 3
   },
   "file_extension": ".py",
   "mimetype": "text/x-python",
   "name": "python",
   "nbconvert_exporter": "python",
   "pygments_lexer": "ipython3",
   "version": "3.8.5"
  }
 },
 "nbformat": 4,
 "nbformat_minor": 2
}
